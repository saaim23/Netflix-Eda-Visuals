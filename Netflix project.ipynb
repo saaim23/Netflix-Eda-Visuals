{
 "cells": [
  {
   "cell_type": "markdown",
   "id": "672329ae",
   "metadata": {},
   "source": [
    "# Importing "
   ]
  },
  {
   "cell_type": "code",
   "execution_count": 38,
   "id": "1c2bdaee",
   "metadata": {},
   "outputs": [],
   "source": [
    "import pandas as pd \n",
    "import numpy as np\n",
    "import seaborn as sns \n",
    "import matplotlib.pyplot as plt"
   ]
  },
  {
   "cell_type": "code",
   "execution_count": 2,
   "id": "fbc6b52d",
   "metadata": {},
   "outputs": [],
   "source": [
    "df=pd.read_csv('Best Movies Netflix.csv')"
   ]
  },
  {
   "cell_type": "code",
   "execution_count": 3,
   "id": "8275be97",
   "metadata": {},
   "outputs": [
    {
     "data": {
      "text/html": [
       "<div>\n",
       "<style scoped>\n",
       "    .dataframe tbody tr th:only-of-type {\n",
       "        vertical-align: middle;\n",
       "    }\n",
       "\n",
       "    .dataframe tbody tr th {\n",
       "        vertical-align: top;\n",
       "    }\n",
       "\n",
       "    .dataframe thead th {\n",
       "        text-align: right;\n",
       "    }\n",
       "</style>\n",
       "<table border=\"1\" class=\"dataframe\">\n",
       "  <thead>\n",
       "    <tr style=\"text-align: right;\">\n",
       "      <th></th>\n",
       "      <th>index</th>\n",
       "      <th>TITLE</th>\n",
       "      <th>RELEASE_YEAR</th>\n",
       "      <th>SCORE</th>\n",
       "      <th>NUMBER_OF_VOTES</th>\n",
       "      <th>DURATION</th>\n",
       "      <th>MAIN_GENRE</th>\n",
       "      <th>MAIN_PRODUCTION</th>\n",
       "    </tr>\n",
       "  </thead>\n",
       "  <tbody>\n",
       "    <tr>\n",
       "      <th>0</th>\n",
       "      <td>0</td>\n",
       "      <td>David Attenborough: A Life on Our Planet</td>\n",
       "      <td>2020</td>\n",
       "      <td>9.0</td>\n",
       "      <td>31180</td>\n",
       "      <td>83</td>\n",
       "      <td>documentary</td>\n",
       "      <td>GB</td>\n",
       "    </tr>\n",
       "    <tr>\n",
       "      <th>1</th>\n",
       "      <td>1</td>\n",
       "      <td>Inception</td>\n",
       "      <td>2010</td>\n",
       "      <td>8.8</td>\n",
       "      <td>2268288</td>\n",
       "      <td>148</td>\n",
       "      <td>scifi</td>\n",
       "      <td>GB</td>\n",
       "    </tr>\n",
       "    <tr>\n",
       "      <th>2</th>\n",
       "      <td>2</td>\n",
       "      <td>Forrest Gump</td>\n",
       "      <td>1994</td>\n",
       "      <td>8.8</td>\n",
       "      <td>1994599</td>\n",
       "      <td>142</td>\n",
       "      <td>drama</td>\n",
       "      <td>US</td>\n",
       "    </tr>\n",
       "    <tr>\n",
       "      <th>3</th>\n",
       "      <td>3</td>\n",
       "      <td>Anbe Sivam</td>\n",
       "      <td>2003</td>\n",
       "      <td>8.7</td>\n",
       "      <td>20595</td>\n",
       "      <td>160</td>\n",
       "      <td>comedy</td>\n",
       "      <td>IN</td>\n",
       "    </tr>\n",
       "    <tr>\n",
       "      <th>4</th>\n",
       "      <td>4</td>\n",
       "      <td>Bo Burnham: Inside</td>\n",
       "      <td>2021</td>\n",
       "      <td>8.7</td>\n",
       "      <td>44074</td>\n",
       "      <td>87</td>\n",
       "      <td>comedy</td>\n",
       "      <td>US</td>\n",
       "    </tr>\n",
       "  </tbody>\n",
       "</table>\n",
       "</div>"
      ],
      "text/plain": [
       "   index                                     TITLE  RELEASE_YEAR  SCORE  \\\n",
       "0      0  David Attenborough: A Life on Our Planet          2020    9.0   \n",
       "1      1                                 Inception          2010    8.8   \n",
       "2      2                              Forrest Gump          1994    8.8   \n",
       "3      3                                Anbe Sivam          2003    8.7   \n",
       "4      4                        Bo Burnham: Inside          2021    8.7   \n",
       "\n",
       "   NUMBER_OF_VOTES  DURATION   MAIN_GENRE MAIN_PRODUCTION  \n",
       "0            31180        83  documentary              GB  \n",
       "1          2268288       148        scifi              GB  \n",
       "2          1994599       142        drama              US  \n",
       "3            20595       160       comedy              IN  \n",
       "4            44074        87       comedy              US  "
      ]
     },
     "execution_count": 3,
     "metadata": {},
     "output_type": "execute_result"
    }
   ],
   "source": [
    "df.head()"
   ]
  },
  {
   "cell_type": "code",
   "execution_count": 4,
   "id": "0a506e15",
   "metadata": {},
   "outputs": [
    {
     "data": {
      "text/plain": [
       "(387, 8)"
      ]
     },
     "execution_count": 4,
     "metadata": {},
     "output_type": "execute_result"
    }
   ],
   "source": [
    "df.shape"
   ]
  },
  {
   "cell_type": "code",
   "execution_count": 5,
   "id": "4affde7a",
   "metadata": {},
   "outputs": [
    {
     "name": "stdout",
     "output_type": "stream",
     "text": [
      "<class 'pandas.core.frame.DataFrame'>\n",
      "RangeIndex: 387 entries, 0 to 386\n",
      "Data columns (total 8 columns):\n",
      " #   Column           Non-Null Count  Dtype  \n",
      "---  ------           --------------  -----  \n",
      " 0   index            387 non-null    int64  \n",
      " 1   TITLE            387 non-null    object \n",
      " 2   RELEASE_YEAR     387 non-null    int64  \n",
      " 3   SCORE            387 non-null    float64\n",
      " 4   NUMBER_OF_VOTES  387 non-null    int64  \n",
      " 5   DURATION         387 non-null    int64  \n",
      " 6   MAIN_GENRE       387 non-null    object \n",
      " 7   MAIN_PRODUCTION  387 non-null    object \n",
      "dtypes: float64(1), int64(4), object(3)\n",
      "memory usage: 24.3+ KB\n"
     ]
    }
   ],
   "source": [
    "df.info()"
   ]
  },
  {
   "cell_type": "code",
   "execution_count": 6,
   "id": "3c0d8fb4",
   "metadata": {},
   "outputs": [],
   "source": [
    "df2=pd.read_csv('Best Shows Netflix.csv')"
   ]
  },
  {
   "cell_type": "code",
   "execution_count": 7,
   "id": "3d2b9705",
   "metadata": {},
   "outputs": [
    {
     "data": {
      "text/html": [
       "<div>\n",
       "<style scoped>\n",
       "    .dataframe tbody tr th:only-of-type {\n",
       "        vertical-align: middle;\n",
       "    }\n",
       "\n",
       "    .dataframe tbody tr th {\n",
       "        vertical-align: top;\n",
       "    }\n",
       "\n",
       "    .dataframe thead th {\n",
       "        text-align: right;\n",
       "    }\n",
       "</style>\n",
       "<table border=\"1\" class=\"dataframe\">\n",
       "  <thead>\n",
       "    <tr style=\"text-align: right;\">\n",
       "      <th></th>\n",
       "      <th>index</th>\n",
       "      <th>TITLE</th>\n",
       "      <th>RELEASE_YEAR</th>\n",
       "      <th>SCORE</th>\n",
       "      <th>NUMBER_OF_VOTES</th>\n",
       "      <th>DURATION</th>\n",
       "      <th>NUMBER_OF_SEASONS</th>\n",
       "      <th>MAIN_GENRE</th>\n",
       "      <th>MAIN_PRODUCTION</th>\n",
       "    </tr>\n",
       "  </thead>\n",
       "  <tbody>\n",
       "    <tr>\n",
       "      <th>0</th>\n",
       "      <td>0</td>\n",
       "      <td>Breaking Bad</td>\n",
       "      <td>2008</td>\n",
       "      <td>9.5</td>\n",
       "      <td>1727694</td>\n",
       "      <td>48</td>\n",
       "      <td>5</td>\n",
       "      <td>drama</td>\n",
       "      <td>US</td>\n",
       "    </tr>\n",
       "    <tr>\n",
       "      <th>1</th>\n",
       "      <td>1</td>\n",
       "      <td>Avatar: The Last Airbender</td>\n",
       "      <td>2005</td>\n",
       "      <td>9.3</td>\n",
       "      <td>297336</td>\n",
       "      <td>24</td>\n",
       "      <td>3</td>\n",
       "      <td>scifi</td>\n",
       "      <td>US</td>\n",
       "    </tr>\n",
       "    <tr>\n",
       "      <th>2</th>\n",
       "      <td>2</td>\n",
       "      <td>Our Planet</td>\n",
       "      <td>2019</td>\n",
       "      <td>9.3</td>\n",
       "      <td>41386</td>\n",
       "      <td>50</td>\n",
       "      <td>1</td>\n",
       "      <td>documentary</td>\n",
       "      <td>GB</td>\n",
       "    </tr>\n",
       "    <tr>\n",
       "      <th>3</th>\n",
       "      <td>3</td>\n",
       "      <td>Kota Factory</td>\n",
       "      <td>2019</td>\n",
       "      <td>9.3</td>\n",
       "      <td>66985</td>\n",
       "      <td>42</td>\n",
       "      <td>2</td>\n",
       "      <td>drama</td>\n",
       "      <td>IN</td>\n",
       "    </tr>\n",
       "    <tr>\n",
       "      <th>4</th>\n",
       "      <td>4</td>\n",
       "      <td>The Last Dance</td>\n",
       "      <td>2020</td>\n",
       "      <td>9.1</td>\n",
       "      <td>108321</td>\n",
       "      <td>50</td>\n",
       "      <td>1</td>\n",
       "      <td>documentary</td>\n",
       "      <td>US</td>\n",
       "    </tr>\n",
       "  </tbody>\n",
       "</table>\n",
       "</div>"
      ],
      "text/plain": [
       "   index                       TITLE  RELEASE_YEAR  SCORE  NUMBER_OF_VOTES  \\\n",
       "0      0                Breaking Bad          2008    9.5          1727694   \n",
       "1      1  Avatar: The Last Airbender          2005    9.3           297336   \n",
       "2      2                  Our Planet          2019    9.3            41386   \n",
       "3      3                Kota Factory          2019    9.3            66985   \n",
       "4      4              The Last Dance          2020    9.1           108321   \n",
       "\n",
       "   DURATION  NUMBER_OF_SEASONS   MAIN_GENRE MAIN_PRODUCTION  \n",
       "0        48                  5        drama              US  \n",
       "1        24                  3        scifi              US  \n",
       "2        50                  1  documentary              GB  \n",
       "3        42                  2        drama              IN  \n",
       "4        50                  1  documentary              US  "
      ]
     },
     "execution_count": 7,
     "metadata": {},
     "output_type": "execute_result"
    }
   ],
   "source": [
    "df2.head()"
   ]
  },
  {
   "cell_type": "code",
   "execution_count": 8,
   "id": "9e47098a",
   "metadata": {},
   "outputs": [
    {
     "name": "stdout",
     "output_type": "stream",
     "text": [
      "<class 'pandas.core.frame.DataFrame'>\n",
      "RangeIndex: 246 entries, 0 to 245\n",
      "Data columns (total 9 columns):\n",
      " #   Column             Non-Null Count  Dtype  \n",
      "---  ------             --------------  -----  \n",
      " 0   index              246 non-null    int64  \n",
      " 1   TITLE              246 non-null    object \n",
      " 2   RELEASE_YEAR       246 non-null    int64  \n",
      " 3   SCORE              246 non-null    float64\n",
      " 4   NUMBER_OF_VOTES    246 non-null    int64  \n",
      " 5   DURATION           246 non-null    int64  \n",
      " 6   NUMBER_OF_SEASONS  246 non-null    int64  \n",
      " 7   MAIN_GENRE         246 non-null    object \n",
      " 8   MAIN_PRODUCTION    246 non-null    object \n",
      "dtypes: float64(1), int64(5), object(3)\n",
      "memory usage: 17.4+ KB\n"
     ]
    }
   ],
   "source": [
    "df2.info()"
   ]
  },
  {
   "cell_type": "markdown",
   "id": "dbb0f139",
   "metadata": {},
   "source": [
    "# Eda "
   ]
  },
  {
   "cell_type": "code",
   "execution_count": 9,
   "id": "3cefbdb8",
   "metadata": {},
   "outputs": [
    {
     "data": {
      "text/html": [
       "<div>\n",
       "<style scoped>\n",
       "    .dataframe tbody tr th:only-of-type {\n",
       "        vertical-align: middle;\n",
       "    }\n",
       "\n",
       "    .dataframe tbody tr th {\n",
       "        vertical-align: top;\n",
       "    }\n",
       "\n",
       "    .dataframe thead th {\n",
       "        text-align: right;\n",
       "    }\n",
       "</style>\n",
       "<table border=\"1\" class=\"dataframe\">\n",
       "  <thead>\n",
       "    <tr style=\"text-align: right;\">\n",
       "      <th></th>\n",
       "      <th>index</th>\n",
       "      <th>TITLE</th>\n",
       "      <th>RELEASE_YEAR</th>\n",
       "      <th>SCORE</th>\n",
       "      <th>NUMBER_OF_VOTES</th>\n",
       "      <th>DURATION</th>\n",
       "      <th>MAIN_GENRE</th>\n",
       "      <th>MAIN_PRODUCTION</th>\n",
       "    </tr>\n",
       "  </thead>\n",
       "  <tbody>\n",
       "    <tr>\n",
       "      <th>0</th>\n",
       "      <td>0</td>\n",
       "      <td>David Attenborough: A Life on Our Planet</td>\n",
       "      <td>2020</td>\n",
       "      <td>9.0</td>\n",
       "      <td>31180</td>\n",
       "      <td>83</td>\n",
       "      <td>documentary</td>\n",
       "      <td>GB</td>\n",
       "    </tr>\n",
       "    <tr>\n",
       "      <th>1</th>\n",
       "      <td>1</td>\n",
       "      <td>Inception</td>\n",
       "      <td>2010</td>\n",
       "      <td>8.8</td>\n",
       "      <td>2268288</td>\n",
       "      <td>148</td>\n",
       "      <td>scifi</td>\n",
       "      <td>GB</td>\n",
       "    </tr>\n",
       "    <tr>\n",
       "      <th>2</th>\n",
       "      <td>2</td>\n",
       "      <td>Forrest Gump</td>\n",
       "      <td>1994</td>\n",
       "      <td>8.8</td>\n",
       "      <td>1994599</td>\n",
       "      <td>142</td>\n",
       "      <td>drama</td>\n",
       "      <td>US</td>\n",
       "    </tr>\n",
       "    <tr>\n",
       "      <th>3</th>\n",
       "      <td>3</td>\n",
       "      <td>Anbe Sivam</td>\n",
       "      <td>2003</td>\n",
       "      <td>8.7</td>\n",
       "      <td>20595</td>\n",
       "      <td>160</td>\n",
       "      <td>comedy</td>\n",
       "      <td>IN</td>\n",
       "    </tr>\n",
       "    <tr>\n",
       "      <th>4</th>\n",
       "      <td>4</td>\n",
       "      <td>Bo Burnham: Inside</td>\n",
       "      <td>2021</td>\n",
       "      <td>8.7</td>\n",
       "      <td>44074</td>\n",
       "      <td>87</td>\n",
       "      <td>comedy</td>\n",
       "      <td>US</td>\n",
       "    </tr>\n",
       "    <tr>\n",
       "      <th>...</th>\n",
       "      <td>...</td>\n",
       "      <td>...</td>\n",
       "      <td>...</td>\n",
       "      <td>...</td>\n",
       "      <td>...</td>\n",
       "      <td>...</td>\n",
       "      <td>...</td>\n",
       "      <td>...</td>\n",
       "    </tr>\n",
       "    <tr>\n",
       "      <th>382</th>\n",
       "      <td>382</td>\n",
       "      <td>The Trip</td>\n",
       "      <td>2021</td>\n",
       "      <td>6.9</td>\n",
       "      <td>19706</td>\n",
       "      <td>113</td>\n",
       "      <td>comedy</td>\n",
       "      <td>NO</td>\n",
       "    </tr>\n",
       "    <tr>\n",
       "      <th>383</th>\n",
       "      <td>383</td>\n",
       "      <td>The Dirt</td>\n",
       "      <td>2019</td>\n",
       "      <td>6.9</td>\n",
       "      <td>47603</td>\n",
       "      <td>108</td>\n",
       "      <td>drama</td>\n",
       "      <td>US</td>\n",
       "    </tr>\n",
       "    <tr>\n",
       "      <th>384</th>\n",
       "      <td>384</td>\n",
       "      <td>Top Gun</td>\n",
       "      <td>1986</td>\n",
       "      <td>6.9</td>\n",
       "      <td>329656</td>\n",
       "      <td>110</td>\n",
       "      <td>drama</td>\n",
       "      <td>US</td>\n",
       "    </tr>\n",
       "    <tr>\n",
       "      <th>385</th>\n",
       "      <td>385</td>\n",
       "      <td>Radhe Shyam</td>\n",
       "      <td>2022</td>\n",
       "      <td>6.9</td>\n",
       "      <td>21328</td>\n",
       "      <td>138</td>\n",
       "      <td>romance</td>\n",
       "      <td>IN</td>\n",
       "    </tr>\n",
       "    <tr>\n",
       "      <th>386</th>\n",
       "      <td>386</td>\n",
       "      <td>Sorry to Bother You</td>\n",
       "      <td>2018</td>\n",
       "      <td>6.9</td>\n",
       "      <td>75653</td>\n",
       "      <td>111</td>\n",
       "      <td>fantasy</td>\n",
       "      <td>US</td>\n",
       "    </tr>\n",
       "  </tbody>\n",
       "</table>\n",
       "<p>387 rows × 8 columns</p>\n",
       "</div>"
      ],
      "text/plain": [
       "     index                                     TITLE  RELEASE_YEAR  SCORE  \\\n",
       "0        0  David Attenborough: A Life on Our Planet          2020    9.0   \n",
       "1        1                                 Inception          2010    8.8   \n",
       "2        2                              Forrest Gump          1994    8.8   \n",
       "3        3                                Anbe Sivam          2003    8.7   \n",
       "4        4                        Bo Burnham: Inside          2021    8.7   \n",
       "..     ...                                       ...           ...    ...   \n",
       "382    382                                  The Trip          2021    6.9   \n",
       "383    383                                  The Dirt          2019    6.9   \n",
       "384    384                                   Top Gun          1986    6.9   \n",
       "385    385                               Radhe Shyam          2022    6.9   \n",
       "386    386                       Sorry to Bother You          2018    6.9   \n",
       "\n",
       "     NUMBER_OF_VOTES  DURATION   MAIN_GENRE MAIN_PRODUCTION  \n",
       "0              31180        83  documentary              GB  \n",
       "1            2268288       148        scifi              GB  \n",
       "2            1994599       142        drama              US  \n",
       "3              20595       160       comedy              IN  \n",
       "4              44074        87       comedy              US  \n",
       "..               ...       ...          ...             ...  \n",
       "382            19706       113       comedy              NO  \n",
       "383            47603       108        drama              US  \n",
       "384           329656       110        drama              US  \n",
       "385            21328       138      romance              IN  \n",
       "386            75653       111      fantasy              US  \n",
       "\n",
       "[387 rows x 8 columns]"
      ]
     },
     "execution_count": 9,
     "metadata": {},
     "output_type": "execute_result"
    }
   ],
   "source": [
    "df.sort_index()"
   ]
  },
  {
   "cell_type": "code",
   "execution_count": 10,
   "id": "473c5a2d",
   "metadata": {},
   "outputs": [
    {
     "data": {
      "text/html": [
       "<div>\n",
       "<style scoped>\n",
       "    .dataframe tbody tr th:only-of-type {\n",
       "        vertical-align: middle;\n",
       "    }\n",
       "\n",
       "    .dataframe tbody tr th {\n",
       "        vertical-align: top;\n",
       "    }\n",
       "\n",
       "    .dataframe thead th {\n",
       "        text-align: right;\n",
       "    }\n",
       "</style>\n",
       "<table border=\"1\" class=\"dataframe\">\n",
       "  <thead>\n",
       "    <tr style=\"text-align: right;\">\n",
       "      <th></th>\n",
       "      <th>index</th>\n",
       "      <th>TITLE</th>\n",
       "      <th>RELEASE_YEAR</th>\n",
       "      <th>SCORE</th>\n",
       "      <th>NUMBER_OF_VOTES</th>\n",
       "      <th>DURATION</th>\n",
       "      <th>NUMBER_OF_SEASONS</th>\n",
       "      <th>MAIN_GENRE</th>\n",
       "      <th>MAIN_PRODUCTION</th>\n",
       "    </tr>\n",
       "  </thead>\n",
       "  <tbody>\n",
       "    <tr>\n",
       "      <th>0</th>\n",
       "      <td>0</td>\n",
       "      <td>Breaking Bad</td>\n",
       "      <td>2008</td>\n",
       "      <td>9.5</td>\n",
       "      <td>1727694</td>\n",
       "      <td>48</td>\n",
       "      <td>5</td>\n",
       "      <td>drama</td>\n",
       "      <td>US</td>\n",
       "    </tr>\n",
       "    <tr>\n",
       "      <th>1</th>\n",
       "      <td>1</td>\n",
       "      <td>Avatar: The Last Airbender</td>\n",
       "      <td>2005</td>\n",
       "      <td>9.3</td>\n",
       "      <td>297336</td>\n",
       "      <td>24</td>\n",
       "      <td>3</td>\n",
       "      <td>scifi</td>\n",
       "      <td>US</td>\n",
       "    </tr>\n",
       "    <tr>\n",
       "      <th>2</th>\n",
       "      <td>2</td>\n",
       "      <td>Our Planet</td>\n",
       "      <td>2019</td>\n",
       "      <td>9.3</td>\n",
       "      <td>41386</td>\n",
       "      <td>50</td>\n",
       "      <td>1</td>\n",
       "      <td>documentary</td>\n",
       "      <td>GB</td>\n",
       "    </tr>\n",
       "    <tr>\n",
       "      <th>3</th>\n",
       "      <td>3</td>\n",
       "      <td>Kota Factory</td>\n",
       "      <td>2019</td>\n",
       "      <td>9.3</td>\n",
       "      <td>66985</td>\n",
       "      <td>42</td>\n",
       "      <td>2</td>\n",
       "      <td>drama</td>\n",
       "      <td>IN</td>\n",
       "    </tr>\n",
       "    <tr>\n",
       "      <th>4</th>\n",
       "      <td>4</td>\n",
       "      <td>The Last Dance</td>\n",
       "      <td>2020</td>\n",
       "      <td>9.1</td>\n",
       "      <td>108321</td>\n",
       "      <td>50</td>\n",
       "      <td>1</td>\n",
       "      <td>documentary</td>\n",
       "      <td>US</td>\n",
       "    </tr>\n",
       "    <tr>\n",
       "      <th>...</th>\n",
       "      <td>...</td>\n",
       "      <td>...</td>\n",
       "      <td>...</td>\n",
       "      <td>...</td>\n",
       "      <td>...</td>\n",
       "      <td>...</td>\n",
       "      <td>...</td>\n",
       "      <td>...</td>\n",
       "      <td>...</td>\n",
       "    </tr>\n",
       "    <tr>\n",
       "      <th>241</th>\n",
       "      <td>241</td>\n",
       "      <td>Evil Genius</td>\n",
       "      <td>2018</td>\n",
       "      <td>7.5</td>\n",
       "      <td>27516</td>\n",
       "      <td>48</td>\n",
       "      <td>1</td>\n",
       "      <td>crime</td>\n",
       "      <td>US</td>\n",
       "    </tr>\n",
       "    <tr>\n",
       "      <th>242</th>\n",
       "      <td>242</td>\n",
       "      <td>13 Reasons Why</td>\n",
       "      <td>2017</td>\n",
       "      <td>7.5</td>\n",
       "      <td>282373</td>\n",
       "      <td>58</td>\n",
       "      <td>4</td>\n",
       "      <td>drama</td>\n",
       "      <td>US</td>\n",
       "    </tr>\n",
       "    <tr>\n",
       "      <th>243</th>\n",
       "      <td>243</td>\n",
       "      <td>Lupin</td>\n",
       "      <td>2021</td>\n",
       "      <td>7.5</td>\n",
       "      <td>100575</td>\n",
       "      <td>46</td>\n",
       "      <td>3</td>\n",
       "      <td>crime</td>\n",
       "      <td>FR</td>\n",
       "    </tr>\n",
       "    <tr>\n",
       "      <th>244</th>\n",
       "      <td>244</td>\n",
       "      <td>All of Us Are Dead</td>\n",
       "      <td>2022</td>\n",
       "      <td>7.5</td>\n",
       "      <td>41393</td>\n",
       "      <td>61</td>\n",
       "      <td>1</td>\n",
       "      <td>action</td>\n",
       "      <td>KR</td>\n",
       "    </tr>\n",
       "    <tr>\n",
       "      <th>245</th>\n",
       "      <td>245</td>\n",
       "      <td>I Am Not Okay with This</td>\n",
       "      <td>2020</td>\n",
       "      <td>7.5</td>\n",
       "      <td>56459</td>\n",
       "      <td>21</td>\n",
       "      <td>1</td>\n",
       "      <td>comedy</td>\n",
       "      <td>US</td>\n",
       "    </tr>\n",
       "  </tbody>\n",
       "</table>\n",
       "<p>246 rows × 9 columns</p>\n",
       "</div>"
      ],
      "text/plain": [
       "     index                       TITLE  RELEASE_YEAR  SCORE  NUMBER_OF_VOTES  \\\n",
       "0        0                Breaking Bad          2008    9.5          1727694   \n",
       "1        1  Avatar: The Last Airbender          2005    9.3           297336   \n",
       "2        2                  Our Planet          2019    9.3            41386   \n",
       "3        3                Kota Factory          2019    9.3            66985   \n",
       "4        4              The Last Dance          2020    9.1           108321   \n",
       "..     ...                         ...           ...    ...              ...   \n",
       "241    241                 Evil Genius          2018    7.5            27516   \n",
       "242    242              13 Reasons Why          2017    7.5           282373   \n",
       "243    243                       Lupin          2021    7.5           100575   \n",
       "244    244          All of Us Are Dead          2022    7.5            41393   \n",
       "245    245     I Am Not Okay with This          2020    7.5            56459   \n",
       "\n",
       "     DURATION  NUMBER_OF_SEASONS   MAIN_GENRE MAIN_PRODUCTION  \n",
       "0          48                  5        drama              US  \n",
       "1          24                  3        scifi              US  \n",
       "2          50                  1  documentary              GB  \n",
       "3          42                  2        drama              IN  \n",
       "4          50                  1  documentary              US  \n",
       "..        ...                ...          ...             ...  \n",
       "241        48                  1        crime              US  \n",
       "242        58                  4        drama              US  \n",
       "243        46                  3        crime              FR  \n",
       "244        61                  1       action              KR  \n",
       "245        21                  1       comedy              US  \n",
       "\n",
       "[246 rows x 9 columns]"
      ]
     },
     "execution_count": 10,
     "metadata": {},
     "output_type": "execute_result"
    }
   ],
   "source": [
    "df2.sort_index()"
   ]
  },
  {
   "cell_type": "code",
   "execution_count": 11,
   "id": "47f811c0",
   "metadata": {},
   "outputs": [],
   "source": [
    "df.rename(columns={'SCORE':'IMDb Rating'},inplace=True)\n",
    "df.rename(columns={'NUMBER_OF_VOTES':'Total_Votes'},inplace=True)\n",
    "df.rename(columns={'MAIN_GENRE':'Genre'},inplace=True)\n",
    "df.rename(columns={'MAIN_PRODUCTION':'Location'},inplace=True)\n"
   ]
  },
  {
   "cell_type": "code",
   "execution_count": 12,
   "id": "2f0e09cc",
   "metadata": {},
   "outputs": [],
   "source": [
    "df2.rename(columns={'SCORE':'IMDb Rating'},inplace=True)\n",
    "df2.rename(columns={'NUMBER_OF_VOTES':'Total_Votes'},inplace=True)\n",
    "df2.rename(columns={'MAIN_GENRE':'Genre'},inplace=True)\n",
    "df2.rename(columns={'MAIN_PRODUCTION':'Location'},inplace=True)"
   ]
  },
  {
   "cell_type": "code",
   "execution_count": 13,
   "id": "aa682544",
   "metadata": {},
   "outputs": [
    {
     "data": {
      "text/html": [
       "<div>\n",
       "<style scoped>\n",
       "    .dataframe tbody tr th:only-of-type {\n",
       "        vertical-align: middle;\n",
       "    }\n",
       "\n",
       "    .dataframe tbody tr th {\n",
       "        vertical-align: top;\n",
       "    }\n",
       "\n",
       "    .dataframe thead th {\n",
       "        text-align: right;\n",
       "    }\n",
       "</style>\n",
       "<table border=\"1\" class=\"dataframe\">\n",
       "  <thead>\n",
       "    <tr style=\"text-align: right;\">\n",
       "      <th></th>\n",
       "      <th>index</th>\n",
       "      <th>TITLE</th>\n",
       "      <th>RELEASE_YEAR</th>\n",
       "      <th>IMDb Rating</th>\n",
       "      <th>Total_Votes</th>\n",
       "      <th>DURATION</th>\n",
       "      <th>Genre</th>\n",
       "      <th>Location</th>\n",
       "    </tr>\n",
       "  </thead>\n",
       "  <tbody>\n",
       "    <tr>\n",
       "      <th>0</th>\n",
       "      <td>0</td>\n",
       "      <td>David Attenborough: A Life on Our Planet</td>\n",
       "      <td>2020</td>\n",
       "      <td>9.0</td>\n",
       "      <td>31180</td>\n",
       "      <td>83</td>\n",
       "      <td>documentary</td>\n",
       "      <td>GB</td>\n",
       "    </tr>\n",
       "    <tr>\n",
       "      <th>1</th>\n",
       "      <td>1</td>\n",
       "      <td>Inception</td>\n",
       "      <td>2010</td>\n",
       "      <td>8.8</td>\n",
       "      <td>2268288</td>\n",
       "      <td>148</td>\n",
       "      <td>scifi</td>\n",
       "      <td>GB</td>\n",
       "    </tr>\n",
       "    <tr>\n",
       "      <th>2</th>\n",
       "      <td>2</td>\n",
       "      <td>Forrest Gump</td>\n",
       "      <td>1994</td>\n",
       "      <td>8.8</td>\n",
       "      <td>1994599</td>\n",
       "      <td>142</td>\n",
       "      <td>drama</td>\n",
       "      <td>US</td>\n",
       "    </tr>\n",
       "    <tr>\n",
       "      <th>3</th>\n",
       "      <td>3</td>\n",
       "      <td>Anbe Sivam</td>\n",
       "      <td>2003</td>\n",
       "      <td>8.7</td>\n",
       "      <td>20595</td>\n",
       "      <td>160</td>\n",
       "      <td>comedy</td>\n",
       "      <td>IN</td>\n",
       "    </tr>\n",
       "    <tr>\n",
       "      <th>4</th>\n",
       "      <td>4</td>\n",
       "      <td>Bo Burnham: Inside</td>\n",
       "      <td>2021</td>\n",
       "      <td>8.7</td>\n",
       "      <td>44074</td>\n",
       "      <td>87</td>\n",
       "      <td>comedy</td>\n",
       "      <td>US</td>\n",
       "    </tr>\n",
       "  </tbody>\n",
       "</table>\n",
       "</div>"
      ],
      "text/plain": [
       "   index                                     TITLE  RELEASE_YEAR  IMDb Rating  \\\n",
       "0      0  David Attenborough: A Life on Our Planet          2020          9.0   \n",
       "1      1                                 Inception          2010          8.8   \n",
       "2      2                              Forrest Gump          1994          8.8   \n",
       "3      3                                Anbe Sivam          2003          8.7   \n",
       "4      4                        Bo Burnham: Inside          2021          8.7   \n",
       "\n",
       "   Total_Votes  DURATION        Genre Location  \n",
       "0        31180        83  documentary       GB  \n",
       "1      2268288       148        scifi       GB  \n",
       "2      1994599       142        drama       US  \n",
       "3        20595       160       comedy       IN  \n",
       "4        44074        87       comedy       US  "
      ]
     },
     "execution_count": 13,
     "metadata": {},
     "output_type": "execute_result"
    }
   ],
   "source": [
    "df.head()"
   ]
  },
  {
   "cell_type": "code",
   "execution_count": 14,
   "id": "f20f2749",
   "metadata": {},
   "outputs": [
    {
     "data": {
      "text/html": [
       "<div>\n",
       "<style scoped>\n",
       "    .dataframe tbody tr th:only-of-type {\n",
       "        vertical-align: middle;\n",
       "    }\n",
       "\n",
       "    .dataframe tbody tr th {\n",
       "        vertical-align: top;\n",
       "    }\n",
       "\n",
       "    .dataframe thead th {\n",
       "        text-align: right;\n",
       "    }\n",
       "</style>\n",
       "<table border=\"1\" class=\"dataframe\">\n",
       "  <thead>\n",
       "    <tr style=\"text-align: right;\">\n",
       "      <th></th>\n",
       "      <th>index</th>\n",
       "      <th>TITLE</th>\n",
       "      <th>RELEASE_YEAR</th>\n",
       "      <th>IMDb Rating</th>\n",
       "      <th>Total_Votes</th>\n",
       "      <th>DURATION</th>\n",
       "      <th>Genre</th>\n",
       "      <th>Location</th>\n",
       "    </tr>\n",
       "  </thead>\n",
       "  <tbody>\n",
       "  </tbody>\n",
       "</table>\n",
       "</div>"
      ],
      "text/plain": [
       "Empty DataFrame\n",
       "Columns: [index, TITLE, RELEASE_YEAR, IMDb Rating, Total_Votes, DURATION, Genre, Location]\n",
       "Index: []"
      ]
     },
     "execution_count": 14,
     "metadata": {},
     "output_type": "execute_result"
    }
   ],
   "source": [
    "df[df.duplicated()]"
   ]
  },
  {
   "cell_type": "code",
   "execution_count": 15,
   "id": "4bd87d55",
   "metadata": {},
   "outputs": [
    {
     "data": {
      "text/html": [
       "<div>\n",
       "<style scoped>\n",
       "    .dataframe tbody tr th:only-of-type {\n",
       "        vertical-align: middle;\n",
       "    }\n",
       "\n",
       "    .dataframe tbody tr th {\n",
       "        vertical-align: top;\n",
       "    }\n",
       "\n",
       "    .dataframe thead th {\n",
       "        text-align: right;\n",
       "    }\n",
       "</style>\n",
       "<table border=\"1\" class=\"dataframe\">\n",
       "  <thead>\n",
       "    <tr style=\"text-align: right;\">\n",
       "      <th></th>\n",
       "      <th>index</th>\n",
       "      <th>TITLE</th>\n",
       "      <th>RELEASE_YEAR</th>\n",
       "      <th>IMDb Rating</th>\n",
       "      <th>Total_Votes</th>\n",
       "      <th>DURATION</th>\n",
       "      <th>NUMBER_OF_SEASONS</th>\n",
       "      <th>Genre</th>\n",
       "      <th>Location</th>\n",
       "    </tr>\n",
       "  </thead>\n",
       "  <tbody>\n",
       "  </tbody>\n",
       "</table>\n",
       "</div>"
      ],
      "text/plain": [
       "Empty DataFrame\n",
       "Columns: [index, TITLE, RELEASE_YEAR, IMDb Rating, Total_Votes, DURATION, NUMBER_OF_SEASONS, Genre, Location]\n",
       "Index: []"
      ]
     },
     "execution_count": 15,
     "metadata": {},
     "output_type": "execute_result"
    }
   ],
   "source": [
    "df2[df2.duplicated()]"
   ]
  },
  {
   "cell_type": "code",
   "execution_count": 16,
   "id": "316b3f25",
   "metadata": {},
   "outputs": [],
   "source": [
    "df['Rank']=df['IMDb Rating'].rank(ascending=False,method='first')"
   ]
  },
  {
   "cell_type": "code",
   "execution_count": 17,
   "id": "a3715340",
   "metadata": {},
   "outputs": [],
   "source": [
    "df2['Rank']=df['IMDb Rating'].rank(ascending=False,method='first')"
   ]
  },
  {
   "cell_type": "code",
   "execution_count": 18,
   "id": "7de3f5fb",
   "metadata": {},
   "outputs": [
    {
     "data": {
      "text/html": [
       "<div>\n",
       "<style scoped>\n",
       "    .dataframe tbody tr th:only-of-type {\n",
       "        vertical-align: middle;\n",
       "    }\n",
       "\n",
       "    .dataframe tbody tr th {\n",
       "        vertical-align: top;\n",
       "    }\n",
       "\n",
       "    .dataframe thead th {\n",
       "        text-align: right;\n",
       "    }\n",
       "</style>\n",
       "<table border=\"1\" class=\"dataframe\">\n",
       "  <thead>\n",
       "    <tr style=\"text-align: right;\">\n",
       "      <th></th>\n",
       "      <th>index</th>\n",
       "      <th>TITLE</th>\n",
       "      <th>RELEASE_YEAR</th>\n",
       "      <th>IMDb Rating</th>\n",
       "      <th>Total_Votes</th>\n",
       "      <th>DURATION</th>\n",
       "      <th>Genre</th>\n",
       "      <th>Location</th>\n",
       "      <th>Rank</th>\n",
       "    </tr>\n",
       "  </thead>\n",
       "  <tbody>\n",
       "    <tr>\n",
       "      <th>0</th>\n",
       "      <td>0</td>\n",
       "      <td>David Attenborough: A Life on Our Planet</td>\n",
       "      <td>2020</td>\n",
       "      <td>9.0</td>\n",
       "      <td>31180</td>\n",
       "      <td>83</td>\n",
       "      <td>documentary</td>\n",
       "      <td>GB</td>\n",
       "      <td>1.0</td>\n",
       "    </tr>\n",
       "    <tr>\n",
       "      <th>1</th>\n",
       "      <td>1</td>\n",
       "      <td>Inception</td>\n",
       "      <td>2010</td>\n",
       "      <td>8.8</td>\n",
       "      <td>2268288</td>\n",
       "      <td>148</td>\n",
       "      <td>scifi</td>\n",
       "      <td>GB</td>\n",
       "      <td>2.0</td>\n",
       "    </tr>\n",
       "    <tr>\n",
       "      <th>2</th>\n",
       "      <td>2</td>\n",
       "      <td>Forrest Gump</td>\n",
       "      <td>1994</td>\n",
       "      <td>8.8</td>\n",
       "      <td>1994599</td>\n",
       "      <td>142</td>\n",
       "      <td>drama</td>\n",
       "      <td>US</td>\n",
       "      <td>3.0</td>\n",
       "    </tr>\n",
       "    <tr>\n",
       "      <th>3</th>\n",
       "      <td>3</td>\n",
       "      <td>Anbe Sivam</td>\n",
       "      <td>2003</td>\n",
       "      <td>8.7</td>\n",
       "      <td>20595</td>\n",
       "      <td>160</td>\n",
       "      <td>comedy</td>\n",
       "      <td>IN</td>\n",
       "      <td>4.0</td>\n",
       "    </tr>\n",
       "    <tr>\n",
       "      <th>4</th>\n",
       "      <td>4</td>\n",
       "      <td>Bo Burnham: Inside</td>\n",
       "      <td>2021</td>\n",
       "      <td>8.7</td>\n",
       "      <td>44074</td>\n",
       "      <td>87</td>\n",
       "      <td>comedy</td>\n",
       "      <td>US</td>\n",
       "      <td>5.0</td>\n",
       "    </tr>\n",
       "  </tbody>\n",
       "</table>\n",
       "</div>"
      ],
      "text/plain": [
       "   index                                     TITLE  RELEASE_YEAR  IMDb Rating  \\\n",
       "0      0  David Attenborough: A Life on Our Planet          2020          9.0   \n",
       "1      1                                 Inception          2010          8.8   \n",
       "2      2                              Forrest Gump          1994          8.8   \n",
       "3      3                                Anbe Sivam          2003          8.7   \n",
       "4      4                        Bo Burnham: Inside          2021          8.7   \n",
       "\n",
       "   Total_Votes  DURATION        Genre Location  Rank  \n",
       "0        31180        83  documentary       GB   1.0  \n",
       "1      2268288       148        scifi       GB   2.0  \n",
       "2      1994599       142        drama       US   3.0  \n",
       "3        20595       160       comedy       IN   4.0  \n",
       "4        44074        87       comedy       US   5.0  "
      ]
     },
     "execution_count": 18,
     "metadata": {},
     "output_type": "execute_result"
    }
   ],
   "source": [
    "df.head()"
   ]
  },
  {
   "cell_type": "code",
   "execution_count": 19,
   "id": "db01bfe3",
   "metadata": {},
   "outputs": [],
   "source": [
    "df['Category']='Movies'\n",
    "df2['Category']='Tv Shows'"
   ]
  },
  {
   "cell_type": "code",
   "execution_count": 20,
   "id": "f325d0c1",
   "metadata": {},
   "outputs": [
    {
     "data": {
      "text/html": [
       "<div>\n",
       "<style scoped>\n",
       "    .dataframe tbody tr th:only-of-type {\n",
       "        vertical-align: middle;\n",
       "    }\n",
       "\n",
       "    .dataframe tbody tr th {\n",
       "        vertical-align: top;\n",
       "    }\n",
       "\n",
       "    .dataframe thead th {\n",
       "        text-align: right;\n",
       "    }\n",
       "</style>\n",
       "<table border=\"1\" class=\"dataframe\">\n",
       "  <thead>\n",
       "    <tr style=\"text-align: right;\">\n",
       "      <th></th>\n",
       "      <th>index</th>\n",
       "      <th>TITLE</th>\n",
       "      <th>RELEASE_YEAR</th>\n",
       "      <th>IMDb Rating</th>\n",
       "      <th>Total_Votes</th>\n",
       "      <th>DURATION</th>\n",
       "      <th>Genre</th>\n",
       "      <th>Location</th>\n",
       "      <th>Rank</th>\n",
       "      <th>Category</th>\n",
       "    </tr>\n",
       "  </thead>\n",
       "  <tbody>\n",
       "    <tr>\n",
       "      <th>0</th>\n",
       "      <td>0</td>\n",
       "      <td>David Attenborough: A Life on Our Planet</td>\n",
       "      <td>2020</td>\n",
       "      <td>9.0</td>\n",
       "      <td>31180</td>\n",
       "      <td>83</td>\n",
       "      <td>documentary</td>\n",
       "      <td>GB</td>\n",
       "      <td>1.0</td>\n",
       "      <td>Movies</td>\n",
       "    </tr>\n",
       "    <tr>\n",
       "      <th>1</th>\n",
       "      <td>1</td>\n",
       "      <td>Inception</td>\n",
       "      <td>2010</td>\n",
       "      <td>8.8</td>\n",
       "      <td>2268288</td>\n",
       "      <td>148</td>\n",
       "      <td>scifi</td>\n",
       "      <td>GB</td>\n",
       "      <td>2.0</td>\n",
       "      <td>Movies</td>\n",
       "    </tr>\n",
       "    <tr>\n",
       "      <th>2</th>\n",
       "      <td>2</td>\n",
       "      <td>Forrest Gump</td>\n",
       "      <td>1994</td>\n",
       "      <td>8.8</td>\n",
       "      <td>1994599</td>\n",
       "      <td>142</td>\n",
       "      <td>drama</td>\n",
       "      <td>US</td>\n",
       "      <td>3.0</td>\n",
       "      <td>Movies</td>\n",
       "    </tr>\n",
       "    <tr>\n",
       "      <th>3</th>\n",
       "      <td>3</td>\n",
       "      <td>Anbe Sivam</td>\n",
       "      <td>2003</td>\n",
       "      <td>8.7</td>\n",
       "      <td>20595</td>\n",
       "      <td>160</td>\n",
       "      <td>comedy</td>\n",
       "      <td>IN</td>\n",
       "      <td>4.0</td>\n",
       "      <td>Movies</td>\n",
       "    </tr>\n",
       "    <tr>\n",
       "      <th>4</th>\n",
       "      <td>4</td>\n",
       "      <td>Bo Burnham: Inside</td>\n",
       "      <td>2021</td>\n",
       "      <td>8.7</td>\n",
       "      <td>44074</td>\n",
       "      <td>87</td>\n",
       "      <td>comedy</td>\n",
       "      <td>US</td>\n",
       "      <td>5.0</td>\n",
       "      <td>Movies</td>\n",
       "    </tr>\n",
       "  </tbody>\n",
       "</table>\n",
       "</div>"
      ],
      "text/plain": [
       "   index                                     TITLE  RELEASE_YEAR  IMDb Rating  \\\n",
       "0      0  David Attenborough: A Life on Our Planet          2020          9.0   \n",
       "1      1                                 Inception          2010          8.8   \n",
       "2      2                              Forrest Gump          1994          8.8   \n",
       "3      3                                Anbe Sivam          2003          8.7   \n",
       "4      4                        Bo Burnham: Inside          2021          8.7   \n",
       "\n",
       "   Total_Votes  DURATION        Genre Location  Rank Category  \n",
       "0        31180        83  documentary       GB   1.0   Movies  \n",
       "1      2268288       148        scifi       GB   2.0   Movies  \n",
       "2      1994599       142        drama       US   3.0   Movies  \n",
       "3        20595       160       comedy       IN   4.0   Movies  \n",
       "4        44074        87       comedy       US   5.0   Movies  "
      ]
     },
     "execution_count": 20,
     "metadata": {},
     "output_type": "execute_result"
    }
   ],
   "source": [
    "df.head()"
   ]
  },
  {
   "cell_type": "code",
   "execution_count": 21,
   "id": "fe62fcbd",
   "metadata": {},
   "outputs": [],
   "source": [
    "df['Genre']=df['Genre'].str.title()"
   ]
  },
  {
   "cell_type": "code",
   "execution_count": 22,
   "id": "147d0fcc",
   "metadata": {},
   "outputs": [],
   "source": [
    "df2['Genre']=df2['Genre'].str.title()"
   ]
  },
  {
   "cell_type": "code",
   "execution_count": 23,
   "id": "9090413e",
   "metadata": {},
   "outputs": [
    {
     "data": {
      "text/html": [
       "<div>\n",
       "<style scoped>\n",
       "    .dataframe tbody tr th:only-of-type {\n",
       "        vertical-align: middle;\n",
       "    }\n",
       "\n",
       "    .dataframe tbody tr th {\n",
       "        vertical-align: top;\n",
       "    }\n",
       "\n",
       "    .dataframe thead th {\n",
       "        text-align: right;\n",
       "    }\n",
       "</style>\n",
       "<table border=\"1\" class=\"dataframe\">\n",
       "  <thead>\n",
       "    <tr style=\"text-align: right;\">\n",
       "      <th></th>\n",
       "      <th>index</th>\n",
       "      <th>TITLE</th>\n",
       "      <th>RELEASE_YEAR</th>\n",
       "      <th>IMDb Rating</th>\n",
       "      <th>Total_Votes</th>\n",
       "      <th>DURATION</th>\n",
       "      <th>Genre</th>\n",
       "      <th>Location</th>\n",
       "      <th>Rank</th>\n",
       "      <th>Category</th>\n",
       "    </tr>\n",
       "  </thead>\n",
       "  <tbody>\n",
       "    <tr>\n",
       "      <th>0</th>\n",
       "      <td>0</td>\n",
       "      <td>David Attenborough: A Life on Our Planet</td>\n",
       "      <td>2020</td>\n",
       "      <td>9.0</td>\n",
       "      <td>31180</td>\n",
       "      <td>83</td>\n",
       "      <td>Documentary</td>\n",
       "      <td>GB</td>\n",
       "      <td>1.0</td>\n",
       "      <td>Movies</td>\n",
       "    </tr>\n",
       "    <tr>\n",
       "      <th>1</th>\n",
       "      <td>1</td>\n",
       "      <td>Inception</td>\n",
       "      <td>2010</td>\n",
       "      <td>8.8</td>\n",
       "      <td>2268288</td>\n",
       "      <td>148</td>\n",
       "      <td>Scifi</td>\n",
       "      <td>GB</td>\n",
       "      <td>2.0</td>\n",
       "      <td>Movies</td>\n",
       "    </tr>\n",
       "    <tr>\n",
       "      <th>2</th>\n",
       "      <td>2</td>\n",
       "      <td>Forrest Gump</td>\n",
       "      <td>1994</td>\n",
       "      <td>8.8</td>\n",
       "      <td>1994599</td>\n",
       "      <td>142</td>\n",
       "      <td>Drama</td>\n",
       "      <td>US</td>\n",
       "      <td>3.0</td>\n",
       "      <td>Movies</td>\n",
       "    </tr>\n",
       "    <tr>\n",
       "      <th>3</th>\n",
       "      <td>3</td>\n",
       "      <td>Anbe Sivam</td>\n",
       "      <td>2003</td>\n",
       "      <td>8.7</td>\n",
       "      <td>20595</td>\n",
       "      <td>160</td>\n",
       "      <td>Comedy</td>\n",
       "      <td>IN</td>\n",
       "      <td>4.0</td>\n",
       "      <td>Movies</td>\n",
       "    </tr>\n",
       "    <tr>\n",
       "      <th>4</th>\n",
       "      <td>4</td>\n",
       "      <td>Bo Burnham: Inside</td>\n",
       "      <td>2021</td>\n",
       "      <td>8.7</td>\n",
       "      <td>44074</td>\n",
       "      <td>87</td>\n",
       "      <td>Comedy</td>\n",
       "      <td>US</td>\n",
       "      <td>5.0</td>\n",
       "      <td>Movies</td>\n",
       "    </tr>\n",
       "  </tbody>\n",
       "</table>\n",
       "</div>"
      ],
      "text/plain": [
       "   index                                     TITLE  RELEASE_YEAR  IMDb Rating  \\\n",
       "0      0  David Attenborough: A Life on Our Planet          2020          9.0   \n",
       "1      1                                 Inception          2010          8.8   \n",
       "2      2                              Forrest Gump          1994          8.8   \n",
       "3      3                                Anbe Sivam          2003          8.7   \n",
       "4      4                        Bo Burnham: Inside          2021          8.7   \n",
       "\n",
       "   Total_Votes  DURATION        Genre Location  Rank Category  \n",
       "0        31180        83  Documentary       GB   1.0   Movies  \n",
       "1      2268288       148        Scifi       GB   2.0   Movies  \n",
       "2      1994599       142        Drama       US   3.0   Movies  \n",
       "3        20595       160       Comedy       IN   4.0   Movies  \n",
       "4        44074        87       Comedy       US   5.0   Movies  "
      ]
     },
     "execution_count": 23,
     "metadata": {},
     "output_type": "execute_result"
    }
   ],
   "source": [
    "df.head()"
   ]
  },
  {
   "cell_type": "code",
   "execution_count": 24,
   "id": "f5f86fab",
   "metadata": {},
   "outputs": [
    {
     "data": {
      "text/html": [
       "<div>\n",
       "<style scoped>\n",
       "    .dataframe tbody tr th:only-of-type {\n",
       "        vertical-align: middle;\n",
       "    }\n",
       "\n",
       "    .dataframe tbody tr th {\n",
       "        vertical-align: top;\n",
       "    }\n",
       "\n",
       "    .dataframe thead th {\n",
       "        text-align: right;\n",
       "    }\n",
       "</style>\n",
       "<table border=\"1\" class=\"dataframe\">\n",
       "  <thead>\n",
       "    <tr style=\"text-align: right;\">\n",
       "      <th></th>\n",
       "      <th>index</th>\n",
       "      <th>TITLE</th>\n",
       "      <th>RELEASE_YEAR</th>\n",
       "      <th>IMDb Rating</th>\n",
       "      <th>Total_Votes</th>\n",
       "      <th>DURATION</th>\n",
       "      <th>NUMBER_OF_SEASONS</th>\n",
       "      <th>Genre</th>\n",
       "      <th>Location</th>\n",
       "      <th>Rank</th>\n",
       "      <th>Category</th>\n",
       "    </tr>\n",
       "  </thead>\n",
       "  <tbody>\n",
       "    <tr>\n",
       "      <th>0</th>\n",
       "      <td>0</td>\n",
       "      <td>Breaking Bad</td>\n",
       "      <td>2008</td>\n",
       "      <td>9.5</td>\n",
       "      <td>1727694</td>\n",
       "      <td>48</td>\n",
       "      <td>5</td>\n",
       "      <td>Drama</td>\n",
       "      <td>US</td>\n",
       "      <td>1.0</td>\n",
       "      <td>Tv Shows</td>\n",
       "    </tr>\n",
       "    <tr>\n",
       "      <th>1</th>\n",
       "      <td>1</td>\n",
       "      <td>Avatar: The Last Airbender</td>\n",
       "      <td>2005</td>\n",
       "      <td>9.3</td>\n",
       "      <td>297336</td>\n",
       "      <td>24</td>\n",
       "      <td>3</td>\n",
       "      <td>Scifi</td>\n",
       "      <td>US</td>\n",
       "      <td>2.0</td>\n",
       "      <td>Tv Shows</td>\n",
       "    </tr>\n",
       "    <tr>\n",
       "      <th>2</th>\n",
       "      <td>2</td>\n",
       "      <td>Our Planet</td>\n",
       "      <td>2019</td>\n",
       "      <td>9.3</td>\n",
       "      <td>41386</td>\n",
       "      <td>50</td>\n",
       "      <td>1</td>\n",
       "      <td>Documentary</td>\n",
       "      <td>GB</td>\n",
       "      <td>3.0</td>\n",
       "      <td>Tv Shows</td>\n",
       "    </tr>\n",
       "    <tr>\n",
       "      <th>3</th>\n",
       "      <td>3</td>\n",
       "      <td>Kota Factory</td>\n",
       "      <td>2019</td>\n",
       "      <td>9.3</td>\n",
       "      <td>66985</td>\n",
       "      <td>42</td>\n",
       "      <td>2</td>\n",
       "      <td>Drama</td>\n",
       "      <td>IN</td>\n",
       "      <td>4.0</td>\n",
       "      <td>Tv Shows</td>\n",
       "    </tr>\n",
       "    <tr>\n",
       "      <th>4</th>\n",
       "      <td>4</td>\n",
       "      <td>The Last Dance</td>\n",
       "      <td>2020</td>\n",
       "      <td>9.1</td>\n",
       "      <td>108321</td>\n",
       "      <td>50</td>\n",
       "      <td>1</td>\n",
       "      <td>Documentary</td>\n",
       "      <td>US</td>\n",
       "      <td>5.0</td>\n",
       "      <td>Tv Shows</td>\n",
       "    </tr>\n",
       "    <tr>\n",
       "      <th>...</th>\n",
       "      <td>...</td>\n",
       "      <td>...</td>\n",
       "      <td>...</td>\n",
       "      <td>...</td>\n",
       "      <td>...</td>\n",
       "      <td>...</td>\n",
       "      <td>...</td>\n",
       "      <td>...</td>\n",
       "      <td>...</td>\n",
       "      <td>...</td>\n",
       "      <td>...</td>\n",
       "    </tr>\n",
       "    <tr>\n",
       "      <th>241</th>\n",
       "      <td>241</td>\n",
       "      <td>Evil Genius</td>\n",
       "      <td>2018</td>\n",
       "      <td>7.5</td>\n",
       "      <td>27516</td>\n",
       "      <td>48</td>\n",
       "      <td>1</td>\n",
       "      <td>Crime</td>\n",
       "      <td>US</td>\n",
       "      <td>242.0</td>\n",
       "      <td>Tv Shows</td>\n",
       "    </tr>\n",
       "    <tr>\n",
       "      <th>242</th>\n",
       "      <td>242</td>\n",
       "      <td>13 Reasons Why</td>\n",
       "      <td>2017</td>\n",
       "      <td>7.5</td>\n",
       "      <td>282373</td>\n",
       "      <td>58</td>\n",
       "      <td>4</td>\n",
       "      <td>Drama</td>\n",
       "      <td>US</td>\n",
       "      <td>243.0</td>\n",
       "      <td>Tv Shows</td>\n",
       "    </tr>\n",
       "    <tr>\n",
       "      <th>243</th>\n",
       "      <td>243</td>\n",
       "      <td>Lupin</td>\n",
       "      <td>2021</td>\n",
       "      <td>7.5</td>\n",
       "      <td>100575</td>\n",
       "      <td>46</td>\n",
       "      <td>3</td>\n",
       "      <td>Crime</td>\n",
       "      <td>FR</td>\n",
       "      <td>244.0</td>\n",
       "      <td>Tv Shows</td>\n",
       "    </tr>\n",
       "    <tr>\n",
       "      <th>244</th>\n",
       "      <td>244</td>\n",
       "      <td>All of Us Are Dead</td>\n",
       "      <td>2022</td>\n",
       "      <td>7.5</td>\n",
       "      <td>41393</td>\n",
       "      <td>61</td>\n",
       "      <td>1</td>\n",
       "      <td>Action</td>\n",
       "      <td>KR</td>\n",
       "      <td>245.0</td>\n",
       "      <td>Tv Shows</td>\n",
       "    </tr>\n",
       "    <tr>\n",
       "      <th>245</th>\n",
       "      <td>245</td>\n",
       "      <td>I Am Not Okay with This</td>\n",
       "      <td>2020</td>\n",
       "      <td>7.5</td>\n",
       "      <td>56459</td>\n",
       "      <td>21</td>\n",
       "      <td>1</td>\n",
       "      <td>Comedy</td>\n",
       "      <td>US</td>\n",
       "      <td>246.0</td>\n",
       "      <td>Tv Shows</td>\n",
       "    </tr>\n",
       "  </tbody>\n",
       "</table>\n",
       "<p>246 rows × 11 columns</p>\n",
       "</div>"
      ],
      "text/plain": [
       "     index                       TITLE  RELEASE_YEAR  IMDb Rating  \\\n",
       "0        0                Breaking Bad          2008          9.5   \n",
       "1        1  Avatar: The Last Airbender          2005          9.3   \n",
       "2        2                  Our Planet          2019          9.3   \n",
       "3        3                Kota Factory          2019          9.3   \n",
       "4        4              The Last Dance          2020          9.1   \n",
       "..     ...                         ...           ...          ...   \n",
       "241    241                 Evil Genius          2018          7.5   \n",
       "242    242              13 Reasons Why          2017          7.5   \n",
       "243    243                       Lupin          2021          7.5   \n",
       "244    244          All of Us Are Dead          2022          7.5   \n",
       "245    245     I Am Not Okay with This          2020          7.5   \n",
       "\n",
       "     Total_Votes  DURATION  NUMBER_OF_SEASONS        Genre Location   Rank  \\\n",
       "0        1727694        48                  5        Drama       US    1.0   \n",
       "1         297336        24                  3        Scifi       US    2.0   \n",
       "2          41386        50                  1  Documentary       GB    3.0   \n",
       "3          66985        42                  2        Drama       IN    4.0   \n",
       "4         108321        50                  1  Documentary       US    5.0   \n",
       "..           ...       ...                ...          ...      ...    ...   \n",
       "241        27516        48                  1        Crime       US  242.0   \n",
       "242       282373        58                  4        Drama       US  243.0   \n",
       "243       100575        46                  3        Crime       FR  244.0   \n",
       "244        41393        61                  1       Action       KR  245.0   \n",
       "245        56459        21                  1       Comedy       US  246.0   \n",
       "\n",
       "     Category  \n",
       "0    Tv Shows  \n",
       "1    Tv Shows  \n",
       "2    Tv Shows  \n",
       "3    Tv Shows  \n",
       "4    Tv Shows  \n",
       "..        ...  \n",
       "241  Tv Shows  \n",
       "242  Tv Shows  \n",
       "243  Tv Shows  \n",
       "244  Tv Shows  \n",
       "245  Tv Shows  \n",
       "\n",
       "[246 rows x 11 columns]"
      ]
     },
     "execution_count": 24,
     "metadata": {},
     "output_type": "execute_result"
    }
   ],
   "source": [
    "df2"
   ]
  },
  {
   "cell_type": "code",
   "execution_count": 25,
   "id": "31c0aa37",
   "metadata": {},
   "outputs": [],
   "source": [
    "df['Rank']=df['Rank'].astype(int)"
   ]
  },
  {
   "cell_type": "code",
   "execution_count": 26,
   "id": "3e1eda95",
   "metadata": {},
   "outputs": [],
   "source": [
    "df2['Rank']=df['Rank'].astype(int)"
   ]
  },
  {
   "cell_type": "code",
   "execution_count": 27,
   "id": "b6c2cc52",
   "metadata": {},
   "outputs": [
    {
     "data": {
      "text/plain": [
       "15"
      ]
     },
     "execution_count": 27,
     "metadata": {},
     "output_type": "execute_result"
    }
   ],
   "source": [
    "df['Genre'].nunique()"
   ]
  },
  {
   "cell_type": "code",
   "execution_count": 28,
   "id": "fd27902b",
   "metadata": {},
   "outputs": [
    {
     "data": {
      "text/plain": [
       "35"
      ]
     },
     "execution_count": 28,
     "metadata": {},
     "output_type": "execute_result"
    }
   ],
   "source": [
    "df['Location'].nunique()"
   ]
  },
  {
   "cell_type": "code",
   "execution_count": 29,
   "id": "a6edde39",
   "metadata": {},
   "outputs": [
    {
     "data": {
      "text/plain": [
       "12"
      ]
     },
     "execution_count": 29,
     "metadata": {},
     "output_type": "execute_result"
    }
   ],
   "source": [
    "df2['Genre'].nunique()\n"
   ]
  },
  {
   "cell_type": "code",
   "execution_count": 30,
   "id": "5b416e14",
   "metadata": {},
   "outputs": [
    {
     "data": {
      "text/plain": [
       "19"
      ]
     },
     "execution_count": 30,
     "metadata": {},
     "output_type": "execute_result"
    }
   ],
   "source": [
    "df2['Location'].nunique()"
   ]
  },
  {
   "cell_type": "code",
   "execution_count": 31,
   "id": "330ad8a9",
   "metadata": {},
   "outputs": [],
   "source": [
    "df['Genre']=df['Genre'].astype('category')\n",
    "df['Location']=df['Location'].astype('category')\n",
    "df['Category']=df['Category'].astype('category')"
   ]
  },
  {
   "cell_type": "code",
   "execution_count": 32,
   "id": "586a62df",
   "metadata": {},
   "outputs": [
    {
     "data": {
      "text/html": [
       "<div>\n",
       "<style scoped>\n",
       "    .dataframe tbody tr th:only-of-type {\n",
       "        vertical-align: middle;\n",
       "    }\n",
       "\n",
       "    .dataframe tbody tr th {\n",
       "        vertical-align: top;\n",
       "    }\n",
       "\n",
       "    .dataframe thead th {\n",
       "        text-align: right;\n",
       "    }\n",
       "</style>\n",
       "<table border=\"1\" class=\"dataframe\">\n",
       "  <thead>\n",
       "    <tr style=\"text-align: right;\">\n",
       "      <th></th>\n",
       "      <th>index</th>\n",
       "      <th>TITLE</th>\n",
       "      <th>RELEASE_YEAR</th>\n",
       "      <th>IMDb Rating</th>\n",
       "      <th>Total_Votes</th>\n",
       "      <th>DURATION</th>\n",
       "      <th>Genre</th>\n",
       "      <th>Location</th>\n",
       "      <th>Rank</th>\n",
       "      <th>Category</th>\n",
       "    </tr>\n",
       "  </thead>\n",
       "  <tbody>\n",
       "    <tr>\n",
       "      <th>0</th>\n",
       "      <td>0</td>\n",
       "      <td>David Attenborough: A Life on Our Planet</td>\n",
       "      <td>2020</td>\n",
       "      <td>9.0</td>\n",
       "      <td>31180</td>\n",
       "      <td>83</td>\n",
       "      <td>Documentary</td>\n",
       "      <td>GB</td>\n",
       "      <td>1</td>\n",
       "      <td>Movies</td>\n",
       "    </tr>\n",
       "    <tr>\n",
       "      <th>1</th>\n",
       "      <td>1</td>\n",
       "      <td>Inception</td>\n",
       "      <td>2010</td>\n",
       "      <td>8.8</td>\n",
       "      <td>2268288</td>\n",
       "      <td>148</td>\n",
       "      <td>Scifi</td>\n",
       "      <td>GB</td>\n",
       "      <td>2</td>\n",
       "      <td>Movies</td>\n",
       "    </tr>\n",
       "    <tr>\n",
       "      <th>2</th>\n",
       "      <td>2</td>\n",
       "      <td>Forrest Gump</td>\n",
       "      <td>1994</td>\n",
       "      <td>8.8</td>\n",
       "      <td>1994599</td>\n",
       "      <td>142</td>\n",
       "      <td>Drama</td>\n",
       "      <td>US</td>\n",
       "      <td>3</td>\n",
       "      <td>Movies</td>\n",
       "    </tr>\n",
       "    <tr>\n",
       "      <th>3</th>\n",
       "      <td>3</td>\n",
       "      <td>Anbe Sivam</td>\n",
       "      <td>2003</td>\n",
       "      <td>8.7</td>\n",
       "      <td>20595</td>\n",
       "      <td>160</td>\n",
       "      <td>Comedy</td>\n",
       "      <td>IN</td>\n",
       "      <td>4</td>\n",
       "      <td>Movies</td>\n",
       "    </tr>\n",
       "    <tr>\n",
       "      <th>4</th>\n",
       "      <td>4</td>\n",
       "      <td>Bo Burnham: Inside</td>\n",
       "      <td>2021</td>\n",
       "      <td>8.7</td>\n",
       "      <td>44074</td>\n",
       "      <td>87</td>\n",
       "      <td>Comedy</td>\n",
       "      <td>US</td>\n",
       "      <td>5</td>\n",
       "      <td>Movies</td>\n",
       "    </tr>\n",
       "  </tbody>\n",
       "</table>\n",
       "</div>"
      ],
      "text/plain": [
       "   index                                     TITLE  RELEASE_YEAR  IMDb Rating  \\\n",
       "0      0  David Attenborough: A Life on Our Planet          2020          9.0   \n",
       "1      1                                 Inception          2010          8.8   \n",
       "2      2                              Forrest Gump          1994          8.8   \n",
       "3      3                                Anbe Sivam          2003          8.7   \n",
       "4      4                        Bo Burnham: Inside          2021          8.7   \n",
       "\n",
       "   Total_Votes  DURATION        Genre Location  Rank Category  \n",
       "0        31180        83  Documentary       GB     1   Movies  \n",
       "1      2268288       148        Scifi       GB     2   Movies  \n",
       "2      1994599       142        Drama       US     3   Movies  \n",
       "3        20595       160       Comedy       IN     4   Movies  \n",
       "4        44074        87       Comedy       US     5   Movies  "
      ]
     },
     "execution_count": 32,
     "metadata": {},
     "output_type": "execute_result"
    }
   ],
   "source": [
    "df.head()"
   ]
  },
  {
   "cell_type": "code",
   "execution_count": 33,
   "id": "53c71938",
   "metadata": {},
   "outputs": [
    {
     "name": "stdout",
     "output_type": "stream",
     "text": [
      "<class 'pandas.core.frame.DataFrame'>\n",
      "RangeIndex: 387 entries, 0 to 386\n",
      "Data columns (total 10 columns):\n",
      " #   Column        Non-Null Count  Dtype   \n",
      "---  ------        --------------  -----   \n",
      " 0   index         387 non-null    int64   \n",
      " 1   TITLE         387 non-null    object  \n",
      " 2   RELEASE_YEAR  387 non-null    int64   \n",
      " 3   IMDb Rating   387 non-null    float64 \n",
      " 4   Total_Votes   387 non-null    int64   \n",
      " 5   DURATION      387 non-null    int64   \n",
      " 6   Genre         387 non-null    category\n",
      " 7   Location      387 non-null    category\n",
      " 8   Rank          387 non-null    int32   \n",
      " 9   Category      387 non-null    category\n",
      "dtypes: category(3), float64(1), int32(1), int64(4), object(1)\n",
      "memory usage: 23.0+ KB\n"
     ]
    }
   ],
   "source": [
    "df.info()"
   ]
  },
  {
   "cell_type": "code",
   "execution_count": 34,
   "id": "5d0f6202",
   "metadata": {},
   "outputs": [],
   "source": [
    "df2['Genre']=df['Genre'].astype('category')\n",
    "df2['Location']=df['Location'].astype('category')\n",
    "df2['Category']=df['Category'].astype('category')"
   ]
  },
  {
   "cell_type": "code",
   "execution_count": 35,
   "id": "6b22c4da",
   "metadata": {},
   "outputs": [
    {
     "data": {
      "text/html": [
       "<div>\n",
       "<style scoped>\n",
       "    .dataframe tbody tr th:only-of-type {\n",
       "        vertical-align: middle;\n",
       "    }\n",
       "\n",
       "    .dataframe tbody tr th {\n",
       "        vertical-align: top;\n",
       "    }\n",
       "\n",
       "    .dataframe thead th {\n",
       "        text-align: right;\n",
       "    }\n",
       "</style>\n",
       "<table border=\"1\" class=\"dataframe\">\n",
       "  <thead>\n",
       "    <tr style=\"text-align: right;\">\n",
       "      <th></th>\n",
       "      <th>count</th>\n",
       "      <th>mean</th>\n",
       "      <th>std</th>\n",
       "      <th>min</th>\n",
       "      <th>25%</th>\n",
       "      <th>50%</th>\n",
       "      <th>75%</th>\n",
       "      <th>max</th>\n",
       "    </tr>\n",
       "  </thead>\n",
       "  <tbody>\n",
       "    <tr>\n",
       "      <th>index</th>\n",
       "      <td>387.0</td>\n",
       "      <td>193.000000</td>\n",
       "      <td>111.861522</td>\n",
       "      <td>0.0</td>\n",
       "      <td>96.5</td>\n",
       "      <td>193.0</td>\n",
       "      <td>289.5</td>\n",
       "      <td>386.0</td>\n",
       "    </tr>\n",
       "    <tr>\n",
       "      <th>RELEASE_YEAR</th>\n",
       "      <td>387.0</td>\n",
       "      <td>2011.023256</td>\n",
       "      <td>10.813874</td>\n",
       "      <td>1954.0</td>\n",
       "      <td>2008.0</td>\n",
       "      <td>2014.0</td>\n",
       "      <td>2018.0</td>\n",
       "      <td>2022.0</td>\n",
       "    </tr>\n",
       "    <tr>\n",
       "      <th>IMDb Rating</th>\n",
       "      <td>387.0</td>\n",
       "      <td>7.509044</td>\n",
       "      <td>0.441906</td>\n",
       "      <td>6.9</td>\n",
       "      <td>7.1</td>\n",
       "      <td>7.4</td>\n",
       "      <td>7.8</td>\n",
       "      <td>9.0</td>\n",
       "    </tr>\n",
       "    <tr>\n",
       "      <th>Total_Votes</th>\n",
       "      <td>387.0</td>\n",
       "      <td>136520.648579</td>\n",
       "      <td>234211.422353</td>\n",
       "      <td>10139.0</td>\n",
       "      <td>20512.5</td>\n",
       "      <td>45200.0</td>\n",
       "      <td>153485.5</td>\n",
       "      <td>2268288.0</td>\n",
       "    </tr>\n",
       "    <tr>\n",
       "      <th>DURATION</th>\n",
       "      <td>387.0</td>\n",
       "      <td>123.395349</td>\n",
       "      <td>28.371632</td>\n",
       "      <td>28.0</td>\n",
       "      <td>103.5</td>\n",
       "      <td>122.0</td>\n",
       "      <td>139.0</td>\n",
       "      <td>229.0</td>\n",
       "    </tr>\n",
       "    <tr>\n",
       "      <th>Rank</th>\n",
       "      <td>387.0</td>\n",
       "      <td>194.000000</td>\n",
       "      <td>111.861522</td>\n",
       "      <td>1.0</td>\n",
       "      <td>97.5</td>\n",
       "      <td>194.0</td>\n",
       "      <td>290.5</td>\n",
       "      <td>387.0</td>\n",
       "    </tr>\n",
       "  </tbody>\n",
       "</table>\n",
       "</div>"
      ],
      "text/plain": [
       "              count           mean            std      min      25%      50%  \\\n",
       "index         387.0     193.000000     111.861522      0.0     96.5    193.0   \n",
       "RELEASE_YEAR  387.0    2011.023256      10.813874   1954.0   2008.0   2014.0   \n",
       "IMDb Rating   387.0       7.509044       0.441906      6.9      7.1      7.4   \n",
       "Total_Votes   387.0  136520.648579  234211.422353  10139.0  20512.5  45200.0   \n",
       "DURATION      387.0     123.395349      28.371632     28.0    103.5    122.0   \n",
       "Rank          387.0     194.000000     111.861522      1.0     97.5    194.0   \n",
       "\n",
       "                   75%        max  \n",
       "index            289.5      386.0  \n",
       "RELEASE_YEAR    2018.0     2022.0  \n",
       "IMDb Rating        7.8        9.0  \n",
       "Total_Votes   153485.5  2268288.0  \n",
       "DURATION         139.0      229.0  \n",
       "Rank             290.5      387.0  "
      ]
     },
     "execution_count": 35,
     "metadata": {},
     "output_type": "execute_result"
    }
   ],
   "source": [
    "df.describe().T"
   ]
  },
  {
   "cell_type": "code",
   "execution_count": 36,
   "id": "a93784d9",
   "metadata": {},
   "outputs": [
    {
     "data": {
      "text/html": [
       "<div>\n",
       "<style scoped>\n",
       "    .dataframe tbody tr th:only-of-type {\n",
       "        vertical-align: middle;\n",
       "    }\n",
       "\n",
       "    .dataframe tbody tr th {\n",
       "        vertical-align: top;\n",
       "    }\n",
       "\n",
       "    .dataframe thead th {\n",
       "        text-align: right;\n",
       "    }\n",
       "</style>\n",
       "<table border=\"1\" class=\"dataframe\">\n",
       "  <thead>\n",
       "    <tr style=\"text-align: right;\">\n",
       "      <th></th>\n",
       "      <th>count</th>\n",
       "      <th>mean</th>\n",
       "      <th>std</th>\n",
       "      <th>min</th>\n",
       "      <th>25%</th>\n",
       "      <th>50%</th>\n",
       "      <th>75%</th>\n",
       "      <th>max</th>\n",
       "    </tr>\n",
       "  </thead>\n",
       "  <tbody>\n",
       "    <tr>\n",
       "      <th>index</th>\n",
       "      <td>246.0</td>\n",
       "      <td>122.500000</td>\n",
       "      <td>71.158274</td>\n",
       "      <td>0.0</td>\n",
       "      <td>61.25</td>\n",
       "      <td>122.5</td>\n",
       "      <td>183.75</td>\n",
       "      <td>245.0</td>\n",
       "    </tr>\n",
       "    <tr>\n",
       "      <th>RELEASE_YEAR</th>\n",
       "      <td>246.0</td>\n",
       "      <td>2014.760163</td>\n",
       "      <td>6.392869</td>\n",
       "      <td>1969.0</td>\n",
       "      <td>2013.00</td>\n",
       "      <td>2016.5</td>\n",
       "      <td>2019.00</td>\n",
       "      <td>2022.0</td>\n",
       "    </tr>\n",
       "    <tr>\n",
       "      <th>IMDb Rating</th>\n",
       "      <td>246.0</td>\n",
       "      <td>8.093496</td>\n",
       "      <td>0.449261</td>\n",
       "      <td>7.5</td>\n",
       "      <td>7.70</td>\n",
       "      <td>8.0</td>\n",
       "      <td>8.40</td>\n",
       "      <td>9.5</td>\n",
       "    </tr>\n",
       "    <tr>\n",
       "      <th>Total_Votes</th>\n",
       "      <td>246.0</td>\n",
       "      <td>101966.788618</td>\n",
       "      <td>168874.642248</td>\n",
       "      <td>10024.0</td>\n",
       "      <td>18553.25</td>\n",
       "      <td>41942.5</td>\n",
       "      <td>112811.75</td>\n",
       "      <td>1727694.0</td>\n",
       "    </tr>\n",
       "    <tr>\n",
       "      <th>DURATION</th>\n",
       "      <td>246.0</td>\n",
       "      <td>41.918699</td>\n",
       "      <td>15.242579</td>\n",
       "      <td>16.0</td>\n",
       "      <td>27.25</td>\n",
       "      <td>44.0</td>\n",
       "      <td>51.75</td>\n",
       "      <td>141.0</td>\n",
       "    </tr>\n",
       "    <tr>\n",
       "      <th>NUMBER_OF_SEASONS</th>\n",
       "      <td>246.0</td>\n",
       "      <td>3.650407</td>\n",
       "      <td>3.191785</td>\n",
       "      <td>1.0</td>\n",
       "      <td>1.00</td>\n",
       "      <td>3.0</td>\n",
       "      <td>5.00</td>\n",
       "      <td>21.0</td>\n",
       "    </tr>\n",
       "    <tr>\n",
       "      <th>Rank</th>\n",
       "      <td>246.0</td>\n",
       "      <td>123.500000</td>\n",
       "      <td>71.158274</td>\n",
       "      <td>1.0</td>\n",
       "      <td>62.25</td>\n",
       "      <td>123.5</td>\n",
       "      <td>184.75</td>\n",
       "      <td>246.0</td>\n",
       "    </tr>\n",
       "  </tbody>\n",
       "</table>\n",
       "</div>"
      ],
      "text/plain": [
       "                   count           mean            std      min       25%  \\\n",
       "index              246.0     122.500000      71.158274      0.0     61.25   \n",
       "RELEASE_YEAR       246.0    2014.760163       6.392869   1969.0   2013.00   \n",
       "IMDb Rating        246.0       8.093496       0.449261      7.5      7.70   \n",
       "Total_Votes        246.0  101966.788618  168874.642248  10024.0  18553.25   \n",
       "DURATION           246.0      41.918699      15.242579     16.0     27.25   \n",
       "NUMBER_OF_SEASONS  246.0       3.650407       3.191785      1.0      1.00   \n",
       "Rank               246.0     123.500000      71.158274      1.0     62.25   \n",
       "\n",
       "                       50%        75%        max  \n",
       "index                122.5     183.75      245.0  \n",
       "RELEASE_YEAR        2016.5    2019.00     2022.0  \n",
       "IMDb Rating            8.0       8.40        9.5  \n",
       "Total_Votes        41942.5  112811.75  1727694.0  \n",
       "DURATION              44.0      51.75      141.0  \n",
       "NUMBER_OF_SEASONS      3.0       5.00       21.0  \n",
       "Rank                 123.5     184.75      246.0  "
      ]
     },
     "execution_count": 36,
     "metadata": {},
     "output_type": "execute_result"
    }
   ],
   "source": [
    "df2.describe().T"
   ]
  },
  {
   "cell_type": "code",
   "execution_count": 58,
   "id": "ddee98e7",
   "metadata": {},
   "outputs": [],
   "source": [
    "df.to_excel('Netflix movies Clear.xlsx',index=False)\n",
    "df2.to_excel('Netflix Show Clear.xlsx',index=False) # i did this for my  personal power-bi dashboard "
   ]
  },
  {
   "cell_type": "code",
   "execution_count": 41,
   "id": "d366312a",
   "metadata": {},
   "outputs": [
    {
     "name": "stdout",
     "output_type": "stream",
     "text": [
      "<class 'pandas.core.frame.DataFrame'>\n",
      "RangeIndex: 387 entries, 0 to 386\n",
      "Data columns (total 10 columns):\n",
      " #   Column        Non-Null Count  Dtype   \n",
      "---  ------        --------------  -----   \n",
      " 0   index         387 non-null    int64   \n",
      " 1   TITLE         387 non-null    object  \n",
      " 2   RELEASE_YEAR  387 non-null    int64   \n",
      " 3   IMDb Rating   387 non-null    float64 \n",
      " 4   Total_Votes   387 non-null    int64   \n",
      " 5   DURATION      387 non-null    int64   \n",
      " 6   Genre         387 non-null    category\n",
      " 7   Location      387 non-null    category\n",
      " 8   Rank          387 non-null    int32   \n",
      " 9   Category      387 non-null    category\n",
      "dtypes: category(3), float64(1), int32(1), int64(4), object(1)\n",
      "memory usage: 23.0+ KB\n"
     ]
    }
   ],
   "source": [
    "df.info()"
   ]
  },
  {
   "cell_type": "markdown",
   "id": "2b3ad770",
   "metadata": {},
   "source": [
    "# Visualization \n"
   ]
  },
  {
   "cell_type": "code",
   "execution_count": 44,
   "id": "c9017cbf",
   "metadata": {},
   "outputs": [
    {
     "data": {
      "text/plain": [
       "<Axes: xlabel='IMDb Rating', ylabel='Genre'>"
      ]
     },
     "execution_count": 44,
     "metadata": {},
     "output_type": "execute_result"
    },
    {
     "data": {
      "image/png": "[encoded data removed]",
      "text/plain": [
       "<Figure size 640x480 with 1 Axes>"
      ]
     },
     "metadata": {},
     "output_type": "display_data"
    }
   ],
   "source": [
    "sns.barplot(data=df,\n",
    "           x='IMDb Rating',\n",
    "           y='Genre')"
   ]
  },
  {
   "cell_type": "code",
   "execution_count": 46,
   "id": "876c8fdc",
   "metadata": {},
   "outputs": [
    {
     "data": {
      "text/plain": [
       "<Axes: xlabel='DURATION', ylabel='Genre'>"
      ]
     },
     "execution_count": 46,
     "metadata": {},
     "output_type": "execute_result"
    },
    {
     "data": {
      "image/png": "[encoded data removed]",
      "text/plain": [
       "<Figure size 640x480 with 1 Axes>"
      ]
     },
     "metadata": {},
     "output_type": "display_data"
    }
   ],
   "source": [
    "sns.barplot(data=df,\n",
    "           x='DURATION',\n",
    "           y='Genre')"
   ]
  },
  {
   "cell_type": "code",
   "execution_count": 47,
   "id": "cf5722b1",
   "metadata": {},
   "outputs": [
    {
     "data": {
      "text/plain": [
       "<Axes: xlabel='RELEASE_YEAR', ylabel='IMDb Rating'>"
      ]
     },
     "execution_count": 47,
     "metadata": {},
     "output_type": "execute_result"
    },
    {
     "data": {
      "image/png": "[encoded data removed]",
      "text/plain": [
       "<Figure size 640x480 with 1 Axes>"
      ]
     },
     "metadata": {},
     "output_type": "display_data"
    }
   ],
   "source": [
    "sns.lineplot(data=df,\n",
    "            x='RELEASE_YEAR',\n",
    "            y='IMDb Rating')"
   ]
  },
  {
   "cell_type": "code",
   "execution_count": 48,
   "id": "c79928c1",
   "metadata": {},
   "outputs": [
    {
     "data": {
      "text/plain": [
       "<Axes: xlabel='RELEASE_YEAR', ylabel='DURATION'>"
      ]
     },
     "execution_count": 48,
     "metadata": {},
     "output_type": "execute_result"
    },
    {
     "data": {
      "image/png": "[encoded data removed]",
      "text/plain": [
       "<Figure size 640x480 with 1 Axes>"
      ]
     },
     "metadata": {},
     "output_type": "display_data"
    }
   ],
   "source": [
    "sns.lineplot(data=df,\n",
    "            y='DURATION',\n",
    "            x='RELEASE_YEAR')"
   ]
  },
  {
   "cell_type": "code",
   "execution_count": 52,
   "id": "71c0081e",
   "metadata": {},
   "outputs": [],
   "source": [
    "data_count = df['Genre'].value_counts()"
   ]
  },
  {
   "cell_type": "code",
   "execution_count": 53,
   "id": "a3b803eb",
   "metadata": {},
   "outputs": [],
   "source": [
    "labels = data_count.index"
   ]
  },
  {
   "cell_type": "code",
   "execution_count": 57,
   "id": "1ad28c11",
   "metadata": {},
   "outputs": [
    {
     "data": {
      "text/plain": [
       "([<matplotlib.patches.Wedge at 0x26b739d8210>,\n",
       "  <matplotlib.patches.Wedge at 0x26b73949bd0>,\n",
       "  <matplotlib.patches.Wedge at 0x26b73942390>,\n",
       "  <matplotlib.patches.Wedge at 0x26b73940d10>,\n",
       "  <matplotlib.patches.Wedge at 0x26b7393fbd0>,\n",
       "  <matplotlib.patches.Wedge at 0x26b7393e950>,\n",
       "  <matplotlib.patches.Wedge at 0x26b73935990>,\n",
       "  <matplotlib.patches.Wedge at 0x26b739346d0>,\n",
       "  <matplotlib.patches.Wedge at 0x26b7393fb90>,\n",
       "  <matplotlib.patches.Wedge at 0x26b725cda10>,\n",
       "  <matplotlib.patches.Wedge at 0x26b7392ea50>,\n",
       "  <matplotlib.patches.Wedge at 0x26b73926550>,\n",
       "  <matplotlib.patches.Wedge at 0x26b73a120d0>,\n",
       "  <matplotlib.patches.Wedge at 0x26b73a135d0>,\n",
       "  <matplotlib.patches.Wedge at 0x26b73a30690>],\n",
       " [Text(0.3720235109354421, 1.0351804225888679, 'Drama'),\n",
       "  Text(-1.0755896387540171, 0.23044940660588242, 'Thriller'),\n",
       "  Text(-0.8132635702310219, -0.7406769642260327, 'Comedy'),\n",
       "  Text(-0.208574894654127, -1.0800446811683393, 'Crime'),\n",
       "  Text(0.16457718339373267, -1.0876186605176401, 'Romance'),\n",
       "  Text(0.5108913659067739, -0.9741611839125551, 'Documentary'),\n",
       "  Text(0.7887884122094417, -0.7666895334906483, 'Fantasy'),\n",
       "  Text(0.9366187844411764, -0.5768407515354071, 'Horror'),\n",
       "  Text(0.9997504325467367, -0.4588017792278199, 'Scifi'),\n",
       "  Text(1.0453312501528422, -0.3424654397948735, 'Western'),\n",
       "  Text(1.0736834662065893, -0.23917318912161525, 'Action'),\n",
       "  Text(1.0882777054384094, -0.16016128073198818, 'Musical'),\n",
       "  Text(1.095617345502371, -0.09809501635831706, 'Animation'),\n",
       "  Text(1.0990940154282554, -0.044635694794572855, 'War'),\n",
       "  Text(1.0999637558705264, -0.008929488854648487, 'Sports')])"
      ]
     },
     "execution_count": 57,
     "metadata": {},
     "output_type": "execute_result"
    },
    {
     "data": {
      "image/png": "[encoded data removed]",
      "text/plain": [
       "<Figure size 640x480 with 1 Axes>"
      ]
     },
     "metadata": {},
     "output_type": "display_data"
    }
   ],
   "source": [
    "plt.pie(data_count, labels = labels,wedgeprops=dict(width=0.3))"
   ]
  },
  {
   "cell_type": "markdown",
   "id": "984f280b",
   "metadata": {},
   "source": [
    "# Conclusion Until Now "
   ]
  },
  {
   "cell_type": "markdown",
   "id": "a78fbc67",
   "metadata": {},
   "source": [
    "- We found that there are more movies than shows on Netflix, and that movies have a wider range of genres and locations than shows. \n",
    "- We also found that movies have higher IMDb ratings and more votes than shows on average, but also more variation in duration and release year\n",
    "\n",
    "- We found that the most common genre for both movies and shows is drama, followed by comedy and action. \n",
    "- We also found that the most common location for both movies and shows is the United States, followed by Great Britain and India. \n",
    "- We also noticed that some genres and locations are more popular in certain categories than others. For example, documentaries in Great Britain are more frequent in shows, while scifi in India are more frequent in movies \n",
    "- We found that there is a positive trend between release year and IMDb rating for both movies and shows, suggesting that newer content tends to have higher ratings. \n",
    "- We also found that there is a negative trend between release year and duration for movies, suggesting that movies tend to get shorter over time. However, there is no clear trend between release year and duration for shows"
   ]
  },
  {
   "cell_type": "code",
   "execution_count": 59,
   "id": "18aa7198",
   "metadata": {},
   "outputs": [
    {
     "data": {
      "text/plain": [
       "<Axes: xlabel='IMDb Rating', ylabel='Genre'>"
      ]
     },
     "execution_count": 59,
     "metadata": {},
     "output_type": "execute_result"
    },
    {
     "data": {
      "image/png": "[encoded data removed]",
      "text/plain": [
       "<Figure size 640x480 with 1 Axes>"
      ]
     },
     "metadata": {},
     "output_type": "display_data"
    }
   ],
   "source": [
    "sns.barplot(data=df2,\n",
    "           x='IMDb Rating',\n",
    "           y='Genre')"
   ]
  },
  {
   "cell_type": "code",
   "execution_count": 61,
   "id": "38c054d3",
   "metadata": {},
   "outputs": [
    {
     "data": {
      "text/plain": [
       "<Axes: xlabel='DURATION', ylabel='Genre'>"
      ]
     },
     "execution_count": 61,
     "metadata": {},
     "output_type": "execute_result"
    },
    {
     "data": {
      "image/png": "[encoded data removed]",
      "text/plain": [
       "<Figure size 640x480 with 1 Axes>"
      ]
     },
     "metadata": {},
     "output_type": "display_data"
    }
   ],
   "source": [
    "sns.barplot(data=df2,\n",
    "           x='DURATION',\n",
    "           y='Genre')"
   ]
  },
  {
   "cell_type": "code",
   "execution_count": 62,
   "id": "0fdec7fe",
   "metadata": {},
   "outputs": [
    {
     "data": {
      "text/plain": [
       "<Axes: xlabel='RELEASE_YEAR', ylabel='DURATION'>"
      ]
     },
     "execution_count": 62,
     "metadata": {},
     "output_type": "execute_result"
    },
    {
     "data": {
      "image/png": "[encoded data removed]",
      "text/plain": [
       "<Figure size 640x480 with 1 Axes>"
      ]
     },
     "metadata": {},
     "output_type": "display_data"
    }
   ],
   "source": [
    "sns.lineplot(data=df2,\n",
    "            y='DURATION',\n",
    "            x='RELEASE_YEAR')"
   ]
  },
  {
   "cell_type": "code",
   "execution_count": 63,
   "id": "e55c94fd",
   "metadata": {},
   "outputs": [
    {
     "data": {
      "text/plain": [
       "<Axes: xlabel='RELEASE_YEAR', ylabel='IMDb Rating'>"
      ]
     },
     "execution_count": 63,
     "metadata": {},
     "output_type": "execute_result"
    },
    {
     "data": {
      "image/png": "[encoded data removed]",
      "text/plain": [
       "<Figure size 640x480 with 1 Axes>"
      ]
     },
     "metadata": {},
     "output_type": "display_data"
    }
   ],
   "source": [
    "sns.lineplot(data=df2,\n",
    "x='RELEASE_YEAR',\n",
    "y='IMDb Rating')"
   ]
  },
  {
   "cell_type": "code",
   "execution_count": 67,
   "id": "945299e3",
   "metadata": {},
   "outputs": [],
   "source": [
    "data_count2 = df2['Genre'].value_counts()"
   ]
  },
  {
   "cell_type": "code",
   "execution_count": 68,
   "id": "f9747b55",
   "metadata": {},
   "outputs": [],
   "source": [
    "labels = data_count.index"
   ]
  },
  {
   "cell_type": "code",
   "execution_count": 69,
   "id": "6a9907ca",
   "metadata": {},
   "outputs": [
    {
     "data": {
      "text/plain": [
       "([<matplotlib.patches.Wedge at 0x26b743263d0>,\n",
       "  <matplotlib.patches.Wedge at 0x26b743418d0>,\n",
       "  <matplotlib.patches.Wedge at 0x26b74342990>,\n",
       "  <matplotlib.patches.Wedge at 0x26b74343a90>,\n",
       "  <matplotlib.patches.Wedge at 0x26b7434c950>,\n",
       "  <matplotlib.patches.Wedge at 0x26b7434dfd0>,\n",
       "  <matplotlib.patches.Wedge at 0x26b7434f4d0>,\n",
       "  <matplotlib.patches.Wedge at 0x26b7435c910>,\n",
       "  <matplotlib.patches.Wedge at 0x26b7434ca50>,\n",
       "  <matplotlib.patches.Wedge at 0x26b7435f010>,\n",
       "  <matplotlib.patches.Wedge at 0x26b74364350>,\n",
       "  <matplotlib.patches.Wedge at 0x26b74365610>,\n",
       "  <matplotlib.patches.Wedge at 0x26b74366b50>,\n",
       "  <matplotlib.patches.Wedge at 0x26b74370090>,\n",
       "  <matplotlib.patches.Wedge at 0x26b74371550>],\n",
       " [Text(0.3718186135310502, 1.035254035795972, 'Drama'),\n",
       "  Text(-1.0741783566682717, 0.2369406213916291, 'Comedy'),\n",
       "  Text(-0.821208572184519, -0.7318582383021071, 'Thriller'),\n",
       "  Text(-0.1817833123010459, -1.0848754893391501, 'Documentary'),\n",
       "  Text(0.2232035486502017, -1.0771166027269088, 'Fantasy'),\n",
       "  Text(0.562120528498952, -0.9455265789178319, 'Romance'),\n",
       "  Text(0.8212085293585716, -0.7318582863565407, 'Crime'),\n",
       "  Text(0.9526279291435897, -0.5500000260141775, 'Scifi'),\n",
       "  Text(1.0149183325469318, -0.42419426948057154, 'Western'),\n",
       "  Text(1.056870043040004, -0.3050011674151763, 'Horror'),\n",
       "  Text(1.0798791436869364, -0.20943026292770847, 'Action'),\n",
       "  Text(1.0927422933701967, -0.12615181441439258, 'War'),\n",
       "  Text(1.097758259865303, -0.0701911881755955, 'Animation'),\n",
       "  Text(1.0991927972436353, -0.042133056947158645, 'Musical'),\n",
       "  Text(1.099910300614101, -0.01404744115481067, 'Sports')])"
      ]
     },
     "execution_count": 69,
     "metadata": {},
     "output_type": "execute_result"
    },
    {
     "data": {
      "image/png": "[encoded data removed]",
      "text/plain": [
       "<Figure size 640x480 with 1 Axes>"
      ]
     },
     "metadata": {},
     "output_type": "display_data"
    }
   ],
   "source": [
    "plt.pie(data_count, labels = labels,wedgeprops=dict(width=0.3))"
   ]
  },
  {
   "cell_type": "markdown",
   "id": "7c2afe04",
   "metadata": {},
   "source": [
    "#  Final Conclusion"
   ]
  },
  {
   "cell_type": "markdown",
   "id": "d6a511db",
   "metadata": {},
   "source": [
    "\n",
    "\n",
    "\n",
    "**Movies vs Shows**: \n",
    "- We created  the distribution of genres for movies, and found that drama, comedy, and action are the most common genres. \n",
    "- We also compared the IMDb ratings and durations of movies across different genres, and found that documentary, biography, and animation have the highest ratings, while musical, sport, and war have the longest durations. \n",
    "- We made a trend line  of IMDb ratings and durations of movies over the years, and found that ratings have slightly decreased, while durations have slightly increased.\n",
    "\n",
    "**Shows vs Seasons**: \n",
    "- We created another pie chart to show the distribution of genres for shows, and found that drama, comedy, and crime are the most common genres. \n",
    "- We also plotted bar charts to compare the IMDb ratings and durations of shows across different genres, and found that documentary, biography, and scifi have the highest ratings, while sport, Western, and musical have the longest durations.\n",
    "- We also plotted a line chart to show the trend of IMDb ratings and durations of shows over the years, and found that ratings have slightly increased, while durations have slightly decreased. We also added a new column to show the number of seasons for each show, and found that most shows have 1 to 5 seasons.\n"
   ]
  },
  {
   "cell_type": "code",
   "execution_count": null,
   "id": "2341f359",
   "metadata": {},
   "outputs": [],
   "source": []
  }
 ],
 "metadata": {
  "kernelspec": {
   "display_name": "Python 3 (ipykernel)",
   "language": "python",
   "name": "python3"
  },
  "language_info": {
   "codemirror_mode": {
    "name": "ipython",
    "version": 3
   },
   "file_extension": ".py",
   "mimetype": "text/x-python",
   "name": "python",
   "nbconvert_exporter": "python",
   "pygments_lexer": "ipython3",
   "version": "3.11.5"
  }
 },
 "nbformat": 4,
 "nbformat_minor": 5
}
